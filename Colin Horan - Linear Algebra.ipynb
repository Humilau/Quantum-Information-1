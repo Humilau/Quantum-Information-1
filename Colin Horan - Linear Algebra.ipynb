{
 "cells": [
  {
   "cell_type": "markdown",
   "id": "1ddb08ca-d8ca-4081-b0dd-8d35cca4a30d",
   "metadata": {},
   "source": [
    "# Introduction"
   ]
  },
  {
   "cell_type": "markdown",
   "id": "96e1aff4-af48-4335-9e05-4df486b30925",
   "metadata": {},
   "source": [
    "Welcome to this notebook! \n",
    "\n",
    "This notebook provides a brief introduction to basic linear algebra targeting to execute various problem in quantum informaiton. \n",
    "In ths notebook, you will learn how to execute basic linear algebra using python, for example, matrix operation, eigenvalues, inner products. \n",
    "\n",
    "The questions about this material shall be addressed to Prof. Kazuki Ikeda kazuki.ikeda@umb.edu"
   ]
  },
  {
   "cell_type": "markdown",
   "id": "b54b34c2-5086-469b-afd7-cb2a3568bc61",
   "metadata": {},
   "source": [
    "# Install python packages for calculation"
   ]
  },
  {
   "cell_type": "markdown",
   "id": "d36c7fe7-a11a-49dd-ac22-117f108f9d74",
   "metadata": {},
   "source": [
    "Install the required packages to get started. \n",
    "If you have not installed the follwoing pacages yet, you can do so by executing the following commands "
   ]
  },
  {
   "cell_type": "code",
   "execution_count": 6,
   "id": "9fc038dc-d039-4922-82ef-5d47521adf33",
   "metadata": {},
   "outputs": [
    {
     "name": "stdout",
     "output_type": "stream",
     "text": [
      "Requirement already satisfied: numpy in /Users/colinhoran/anaconda3/lib/python3.11/site-packages (1.24.3)\n",
      "Note: you may need to restart the kernel to use updated packages.\n"
     ]
    }
   ],
   "source": [
    "pip install numpy"
   ]
  },
  {
   "cell_type": "code",
   "execution_count": 5,
   "id": "3e377194-b016-45df-8177-640351c861b7",
   "metadata": {},
   "outputs": [
    {
     "name": "stdout",
     "output_type": "stream",
     "text": [
      "Requirement already satisfied: scipy in /Users/colinhoran/anaconda3/lib/python3.11/site-packages (1.11.1)\n",
      "Requirement already satisfied: numpy<1.28.0,>=1.21.6 in /Users/colinhoran/anaconda3/lib/python3.11/site-packages (from scipy) (1.24.3)\n",
      "Note: you may need to restart the kernel to use updated packages.\n"
     ]
    }
   ],
   "source": [
    "pip install scipy"
   ]
  },
  {
   "cell_type": "markdown",
   "id": "159aeeba-a14c-4b48-8bb7-2bbd98074375",
   "metadata": {},
   "source": [
    "Now let's import packages"
   ]
  },
  {
   "cell_type": "code",
   "execution_count": 13,
   "id": "4d98837b-b05b-4209-b33d-66b62bf2b911",
   "metadata": {},
   "outputs": [],
   "source": [
    "import numpy as np\n",
    "from numpy import array, dot, pi\n",
    "import scipy.sparse as sp\n",
    "from scipy.sparse.linalg import eigsh\n",
    "from scipy.linalg import eigvals"
   ]
  },
  {
   "cell_type": "markdown",
   "id": "14be4502-ea09-4eab-a602-3681fb1f750f",
   "metadata": {},
   "source": [
    "# Complex numbers"
   ]
  },
  {
   "cell_type": "markdown",
   "id": "6e4bf226-0c2d-47bc-bcd1-090f3c3f7abd",
   "metadata": {},
   "source": [
    "First, in python the complex unit $i$ is express by \"1j\". So for example, a complex number $5+2i$ is expressed as follows:"
   ]
  },
  {
   "cell_type": "code",
   "execution_count": 19,
   "id": "f0eb8c33-f098-427d-b6e9-2499ed3e8cec",
   "metadata": {},
   "outputs": [
    {
     "data": {
      "text/plain": [
       "(5+2j)"
      ]
     },
     "execution_count": 19,
     "metadata": {},
     "output_type": "execute_result"
    }
   ],
   "source": [
    "5+2j"
   ]
  },
  {
   "cell_type": "markdown",
   "id": "dab09763-e406-4b10-a918-16fe5921f73a",
   "metadata": {},
   "source": [
    "Multiplication is computed by applying \"*\" to complex numbers:"
   ]
  },
  {
   "cell_type": "code",
   "execution_count": 17,
   "id": "29e8d7ee-bd09-4c80-9fea-94e12fbbb14c",
   "metadata": {},
   "outputs": [
    {
     "data": {
      "text/plain": [
       "(7-3j)"
      ]
     },
     "execution_count": 17,
     "metadata": {},
     "output_type": "execute_result"
    }
   ],
   "source": [
    "(5+2j)*(1-1j)"
   ]
  },
  {
   "cell_type": "markdown",
   "id": "2f41c8af-a52c-4a0c-a55e-d47d548a2a99",
   "metadata": {},
   "source": [
    "The complex conjugate of a complex number $c$ can be computed by \"np.conj(c)\":"
   ]
  },
  {
   "cell_type": "code",
   "execution_count": 15,
   "id": "c64e917e-2b45-4260-9bdc-5837c414b637",
   "metadata": {},
   "outputs": [
    {
     "data": {
      "text/plain": [
       "(5-2j)"
      ]
     },
     "execution_count": 15,
     "metadata": {},
     "output_type": "execute_result"
    }
   ],
   "source": [
    "np.conj(5+2j)"
   ]
  },
  {
   "cell_type": "markdown",
   "id": "461d75c5-b6e8-4f10-9d7a-fc9ca899d421",
   "metadata": {},
   "source": [
    "# Vectors"
   ]
  },
  {
   "cell_type": "markdown",
   "id": "873f15b8-d944-419e-8a87-97d9738d899c",
   "metadata": {},
   "source": [
    "## Definition and operations"
   ]
  },
  {
   "cell_type": "markdown",
   "id": "64d34f45-389b-4a10-b6a1-e08b3edaa82d",
   "metadata": {},
   "source": [
    "Here let's learn basic vector operations by python. \n",
    "First, define and plot a two-dimensional complex vector $v$. \n",
    "As an example, we use \n",
    "$$v=\\begin{pmatrix}1+2i\\\\3-4i\\end{pmatrix}$$"
   ]
  },
  {
   "cell_type": "code",
   "execution_count": 21,
   "id": "1668437a-c3aa-4378-afd1-d285f2fa050d",
   "metadata": {},
   "outputs": [
    {
     "name": "stdout",
     "output_type": "stream",
     "text": [
      "[1.+2.j 3.-4.j]\n"
     ]
    }
   ],
   "source": [
    "v= np.array([1 + 2j, 3 - 4j])\n",
    "print(v)"
   ]
  },
  {
   "cell_type": "markdown",
   "id": "ce5e01ac-1a62-4348-bbe8-8794011f87fb",
   "metadata": {},
   "source": [
    "Two complex vectors $v,u$ can be added. For example, when \n",
    "$$u=\\begin{pmatrix}5+6i\\\\7-8i\\end{pmatrix},$$\n",
    "$u+v$ is \n",
    "$$v+u=\\begin{pmatrix}6+8i\\\\10-12i\\end{pmatrix},$$\n",
    "which can be confirmed by python as follows"
   ]
  },
  {
   "cell_type": "code",
   "execution_count": 23,
   "id": "c8c64f2e-9f91-4519-a24c-453e869a9bdd",
   "metadata": {},
   "outputs": [
    {
     "name": "stdout",
     "output_type": "stream",
     "text": [
      "[ 6. +8.j 10.-12.j]\n"
     ]
    }
   ],
   "source": [
    "u= np.array([5 + 6j, 7 - 8j])\n",
    "print(v+u)"
   ]
  },
  {
   "cell_type": "markdown",
   "id": "9a95bb81-445e-4c79-8c6d-1c664c58f6ac",
   "metadata": {},
   "source": [
    "## Complex conjugate"
   ]
  },
  {
   "cell_type": "markdown",
   "id": "07d76d1d-dfa0-477a-aaf2-8786a4e1aa0d",
   "metadata": {},
   "source": [
    "Complex conjugate of a vector $v$ is obtained by taking the complex conjugate of each component of $v$. Execute following command and compare the rsult with $v$. "
   ]
  },
  {
   "cell_type": "code",
   "execution_count": 25,
   "id": "38c829fc-cbee-4dda-9ba7-8201ddd0246b",
   "metadata": {},
   "outputs": [
    {
     "data": {
      "text/plain": [
       "array([1.-2.j, 3.+4.j])"
      ]
     },
     "execution_count": 25,
     "metadata": {},
     "output_type": "execute_result"
    }
   ],
   "source": [
    "np.conj(v)"
   ]
  },
  {
   "cell_type": "markdown",
   "id": "75207db0-6124-4c0b-b737-23fcd942437a",
   "metadata": {},
   "source": [
    "## Inner product and norm"
   ]
  },
  {
   "cell_type": "markdown",
   "id": "4a092b45-090f-4e32-9956-906d209bcf4c",
   "metadata": {},
   "source": [
    "The inner product of two complex vectors $v,u$ are defined by \n",
    "$$\\langle v,u\\rangle=\\sum_{n=1}v^*_nu_n$$\n",
    "\n"
   ]
  },
  {
   "cell_type": "markdown",
   "id": "37e11c5f-ad4f-4939-ac32-a7bfc1f29cd7",
   "metadata": {},
   "source": [
    "With python, this can be computed by the following command: "
   ]
  },
  {
   "cell_type": "code",
   "execution_count": 27,
   "id": "01f74b5a-532e-4c44-81c5-1976500e9015",
   "metadata": {},
   "outputs": [
    {
     "data": {
      "text/plain": [
       "(70+0j)"
      ]
     },
     "execution_count": 27,
     "metadata": {},
     "output_type": "execute_result"
    }
   ],
   "source": [
    "np.dot(np.conj(v).T,u)"
   ]
  },
  {
   "cell_type": "markdown",
   "id": "5d42df67-701b-4001-aabd-c2f69a39ac8c",
   "metadata": {},
   "source": [
    "The norm of a vector is defined by $$\\|v\\|=\\sqrt{\\langle v,v\\rangle}.$$\n",
    "Note that this value is always real. Let's confirm this with python. "
   ]
  },
  {
   "cell_type": "code",
   "execution_count": 29,
   "id": "a9921c5a-d6a5-4a6c-9f2a-7788dc441923",
   "metadata": {},
   "outputs": [
    {
     "data": {
      "text/plain": [
       "(5.477225575051661+0j)"
      ]
     },
     "execution_count": 29,
     "metadata": {},
     "output_type": "execute_result"
    }
   ],
   "source": [
    "np.sqrt(np.dot(np.conj(v).T,v))"
   ]
  },
  {
   "cell_type": "markdown",
   "id": "ec68d5c8-a2ae-4647-9802-914f06a2dda0",
   "metadata": {},
   "source": [
    "# Pauli operators "
   ]
  },
  {
   "cell_type": "markdown",
   "id": "92597528-2474-4298-b82d-e84758c7ad81",
   "metadata": {},
   "source": [
    "The Pauli operators are the most fundamental operators in quantum information, and they are defined as follows:  \n",
    " $$X=\\begin{pmatrix} 0&1\\\\ 1&0\\end{pmatrix},~Y=\\begin{pmatrix} 0&-i\\\\ i&0\\end{pmatrix},~Z=\\begin{pmatrix} 1&0\\\\ 0&-1\\end{pmatrix}$$\n",
    "\n",
    "Here we deine the Pauli operators using scipy, which is useful to calculate sparce matrices. "
   ]
  },
  {
   "cell_type": "code",
   "execution_count": 33,
   "id": "7611bdcc-d0f0-4d2f-81be-1737a0a89bc2",
   "metadata": {},
   "outputs": [],
   "source": [
    "def pauli_X():\n",
    "    op=sp.csr_matrix([[0,1],[1,0]])\n",
    "    return op\n",
    "\n",
    "def pauli_Z():\n",
    "    op=sp.csr_matrix([[1,0],[0,-1]])\n",
    "    return op\n",
    "\n",
    "def pauli_Y():\n",
    "    op=sp.csr_matrix([[0,-1j],[1j,0]])\n",
    "    return op"
   ]
  },
  {
   "cell_type": "markdown",
   "id": "71cf1f54-f74c-4cdb-a820-a335eb8fdc0c",
   "metadata": {},
   "source": [
    "We can plot the matrix components of the Pauli X operator as follows "
   ]
  },
  {
   "cell_type": "code",
   "execution_count": 35,
   "id": "348c0339-fe00-4812-9b74-d6e07d0f398a",
   "metadata": {},
   "outputs": [
    {
     "name": "stdout",
     "output_type": "stream",
     "text": [
      "  (0, 1)\t1\n",
      "  (1, 0)\t1\n"
     ]
    }
   ],
   "source": [
    "print(pauli_X()) "
   ]
  },
  {
   "cell_type": "markdown",
   "id": "59737541-e4e4-49c7-a141-aa7552491d58",
   "metadata": {},
   "source": [
    "Here, only non-zero martrix components are shown. \"(0,1) 1\" means the (0,1) component of Pauli X is 1.  The components not shown are 0.  "
   ]
  },
  {
   "cell_type": "markdown",
   "id": "48bf7513-2034-4b18-a7cb-3a49fea9ce61",
   "metadata": {},
   "source": [
    "# Matrix operations "
   ]
  },
  {
   "cell_type": "markdown",
   "id": "301c827f-15ce-4e78-a692-7ce85ee79fe2",
   "metadata": {},
   "source": [
    "## Addition and Multiplication"
   ]
  },
  {
   "cell_type": "markdown",
   "id": "df044075-3c6a-466d-9961-fc0946ae11d8",
   "metadata": {},
   "source": [
    "Here we learn how to execute matrix operations. For matrices $A_1,A_2$, matrix addition and scalar multiplication are defined: \n",
    "$$c_1A_1+c_2A_2~(c_1,c_2\\in\\mathbb{C})$$\n",
    "\n",
    "The following is an example: $2X+3Y$, which can be printed and confirmed numerically as follows. "
   ]
  },
  {
   "cell_type": "code",
   "execution_count": 37,
   "id": "789c9435-cb14-422e-8c48-43ffacef1dd9",
   "metadata": {},
   "outputs": [
    {
     "name": "stdout",
     "output_type": "stream",
     "text": [
      "  (0, 1)\t(2-3j)\n",
      "  (1, 0)\t(2+3j)\n"
     ]
    }
   ],
   "source": [
    "print(2*pauli_X()+3*pauli_Y()) "
   ]
  },
  {
   "cell_type": "markdown",
   "id": "697400fe-92cd-4166-97e1-a7e4f0b88b81",
   "metadata": {},
   "source": [
    "Two matrices can be multiplied $A_1\\cdot A_2$. For example, a prodcut of Pauli $X$ and $Y$ is \n",
    "$$X\\cdot Y=\\begin{pmatrix} i&0\\\\ 0&-i\\end{pmatrix},$$ which can be confirmed numerically as follows. "
   ]
  },
  {
   "cell_type": "code",
   "execution_count": 39,
   "id": "2a51b59e-7f11-4ffb-a3cf-f2035bc48260",
   "metadata": {},
   "outputs": [
    {
     "name": "stdout",
     "output_type": "stream",
     "text": [
      "  (0, 0)\t1j\n",
      "  (1, 1)\t-1j\n"
     ]
    }
   ],
   "source": [
    "print(pauli_X().dot(pauli_Y()))"
   ]
  },
  {
   "cell_type": "markdown",
   "id": "d7113b3b-ed23-41b7-82a2-9c52aea7b57e",
   "metadata": {},
   "source": [
    "## Hermitian conjugate (Adjoint)"
   ]
  },
  {
   "cell_type": "markdown",
   "id": "5bbd2914-5635-431a-87c7-196abbcc5e6d",
   "metadata": {},
   "source": [
    "The Hermitian conjugate of a matrix is frequently used for quantum computation. For a complex matrix $A$, the adoint $A^\\dagger$ is defined by taking the transpose and conjugate of $A$. With puthon, it can be obtained by the following command \"np.conj(A).T\".  "
   ]
  },
  {
   "cell_type": "markdown",
   "id": "c6332efa-13e0-43ad-9983-96c9b2471c1f",
   "metadata": {},
   "source": [
    "By definition, the Pauli matrices are self-adjoint: $X^\\dagger=X, Y^\\dagger=Y, Z^\\dagger=Z$. We can confirm this easily. "
   ]
  },
  {
   "cell_type": "code",
   "execution_count": 41,
   "id": "a98048cd-67a6-404f-ae01-0da694c1411f",
   "metadata": {},
   "outputs": [
    {
     "name": "stdout",
     "output_type": "stream",
     "text": [
      "  (1, 0)\t1\n",
      "  (0, 1)\t1\n"
     ]
    }
   ],
   "source": [
    "print(np.conj(pauli_X()).T) "
   ]
  },
  {
   "cell_type": "code",
   "execution_count": 57,
   "id": "66e82577-12ca-40ae-b88b-5e408cb6394a",
   "metadata": {},
   "outputs": [
    {
     "name": "stdout",
     "output_type": "stream",
     "text": [
      "  (1, 0)\t(-0+1j)\n",
      "  (0, 1)\t-1j\n"
     ]
    }
   ],
   "source": [
    "print(np.conj(pauli_Y()).T) "
   ]
  },
  {
   "cell_type": "code",
   "execution_count": 58,
   "id": "b490b31d-6eab-443e-bdd4-53ac2f3d0b46",
   "metadata": {},
   "outputs": [
    {
     "name": "stdout",
     "output_type": "stream",
     "text": [
      "  (0, 0)\t1\n",
      "  (1, 1)\t-1\n"
     ]
    }
   ],
   "source": [
    "print(np.conj(pauli_Z()).T) "
   ]
  },
  {
   "cell_type": "markdown",
   "id": "7a6025a5-d6b8-4eb6-90a3-7e1822e074e7",
   "metadata": {},
   "source": [
    "Let's compute adjoint of a general random complex operator $A$"
   ]
  },
  {
   "cell_type": "code",
   "execution_count": 59,
   "id": "ac53bdf1-a182-4d55-8614-f1317dff885a",
   "metadata": {},
   "outputs": [
    {
     "name": "stdout",
     "output_type": "stream",
     "text": [
      "[[0.92968976+0.21710619j 0.80823469+0.47402802j]\n",
      " [0.30193549+0.71597108j 0.97874133+0.52682928j]]\n"
     ]
    }
   ],
   "source": [
    "real_part = np.random.rand(2, 2)\n",
    "imaginary_part = np.random.rand(2, 2)\n",
    "A = real_part + 1j * imaginary_part\n",
    "\n",
    "print(A)"
   ]
  },
  {
   "cell_type": "code",
   "execution_count": 60,
   "id": "a1328db9-44c3-48fa-b33c-13715794a18c",
   "metadata": {},
   "outputs": [
    {
     "data": {
      "text/plain": [
       "array([[0.92968976-0.21710619j, 0.30193549-0.71597108j],\n",
       "       [0.80823469-0.47402802j, 0.97874133-0.52682928j]])"
      ]
     },
     "execution_count": 60,
     "metadata": {},
     "output_type": "execute_result"
    }
   ],
   "source": [
    "np.conj(A).T"
   ]
  },
  {
   "cell_type": "markdown",
   "id": "d255db46-99ab-4112-8a7c-5a9318eb2182",
   "metadata": {},
   "source": [
    "For unitary matrices $U$ , there is a special property: \n",
    "$$U^\\dagger U=UU^\\dagger=I.$$\n",
    "Let's check this for genral random matrics. First generate a random unitary matrix as follows. "
   ]
  },
  {
   "cell_type": "code",
   "execution_count": 61,
   "id": "aaf043b3-c8cf-4893-b371-15e573c75172",
   "metadata": {},
   "outputs": [
    {
     "name": "stdout",
     "output_type": "stream",
     "text": [
      "Random 2x2 Unitary Matrix:\n",
      "[[ 0.56149086+0.63586669j  0.3571954 -0.39091305j]\n",
      " [ 0.45286826+0.27443014j -0.3595774 +0.76831148j]]\n"
     ]
    }
   ],
   "source": [
    "from scipy.linalg import qr\n",
    "\n",
    "def generate_random_unitary_matrix(n):\n",
    "    # Create a random complex matrix\n",
    "    random_matrix = np.random.rand(n, n) + 1j * np.random.rand(n, n)\n",
    "    # Perform QR decomposition\n",
    "    q, r = qr(random_matrix)\n",
    "    # Ensure the matrix is unitary\n",
    "    d = np.diag(r)\n",
    "    ph = d / np.abs(d)\n",
    "    unitary_matrix = q @ np.diag(ph)\n",
    "    return unitary_matrix\n",
    "\n",
    "# Generate a random 2x2 unitary matrix\n",
    "unitary_matrix = generate_random_unitary_matrix(2)\n",
    "print(\"Random 2x2 Unitary Matrix:\")\n",
    "print(unitary_matrix)"
   ]
  },
  {
   "cell_type": "markdown",
   "id": "4525f9d4-e642-460c-8329-0322b25236e4",
   "metadata": {},
   "source": [
    "Now we can confirm $U^\\dagger U=I$ as follows. "
   ]
  },
  {
   "cell_type": "code",
   "execution_count": 46,
   "id": "39fab4c3-59ab-4e91-a270-98d7701f723f",
   "metadata": {},
   "outputs": [
    {
     "name": "stdout",
     "output_type": "stream",
     "text": [
      "[[1.+0.00000000e+00j 0.-1.66533454e-16j]\n",
      " [0.+1.66533454e-16j 1.+0.00000000e+00j]]\n"
     ]
    }
   ],
   "source": [
    "U=unitary_matrix \n",
    "U_dag=np.conj(U).T\n",
    "\n",
    "print(U_dag.dot(U))"
   ]
  },
  {
   "cell_type": "markdown",
   "id": "b6a7eaab-c340-45a3-8186-6de8e94cece7",
   "metadata": {},
   "source": [
    "## Eigenvalues and Eigenvectors"
   ]
  },
  {
   "cell_type": "markdown",
   "id": "7b847414-d084-4267-af24-205bc8964b83",
   "metadata": {},
   "source": [
    "For a given matrix $A$, a value $a$ and vector $v$ are called eigenvalue and eigenvector, when they satisfy \n",
    "$$Av=a v$$"
   ]
  },
  {
   "cell_type": "markdown",
   "id": "11ce51b6-66ad-4a7a-83b3-155775bc71cf",
   "metadata": {},
   "source": [
    "Let's learn how to compute $a$ and $v$ numerically through the following example. "
   ]
  },
  {
   "cell_type": "code",
   "execution_count": 108,
   "id": "1dd13134-22a0-427e-b1c9-4e3634ae355a",
   "metadata": {},
   "outputs": [
    {
     "name": "stdout",
     "output_type": "stream",
     "text": [
      "Complex Matrix:\n",
      "[[1.+2.j 2.-1.j]\n",
      " [3.+4.j 4.+3.j]]\n",
      "\n",
      "Eigenvalues:\n",
      "[-1.0810155+1.59243621j  6.0810155+3.40756379j]\n",
      "\n",
      "Eigenvectors:\n",
      "[[ 0.725601  +0.j          0.28993452-0.26150814j]\n",
      " [-0.54484903-0.42028886j  0.92062559+0.j        ]]\n"
     ]
    }
   ],
   "source": [
    "# Define a complex matrix\n",
    "complex_matrix = np.array([[1 + 2j, 2 - 1j], [3 + 4j, 4 + 3j]])\n",
    "\n",
    "# Compute eigenvalues and eigenvectors\n",
    "eigenvalues, eigenvectors = np.linalg.eig(complex_matrix)\n",
    "\n",
    "print(\"Complex Matrix:\")\n",
    "print(complex_matrix)\n",
    "print(\"\\nEigenvalues:\")\n",
    "print(eigenvalues)\n",
    "print(\"\\nEigenvectors:\")\n",
    "print(eigenvectors)"
   ]
  },
  {
   "cell_type": "markdown",
   "id": "c22732ef-b1b5-4b97-9a14-0d2653410d51",
   "metadata": {},
   "source": [
    "Let's check they really satisfy the condition. Pick up the first eivenvalue and eigenvectors "
   ]
  },
  {
   "cell_type": "code",
   "execution_count": 109,
   "id": "dff937c1-08e4-45e2-a3ef-66b907c806c5",
   "metadata": {},
   "outputs": [
    {
     "name": "stdout",
     "output_type": "stream",
     "text": [
      "(-1.0810155028955246+1.592436210518461j)\n"
     ]
    }
   ],
   "source": [
    "a=eigenvalues[0]\n",
    "print(a)"
   ]
  },
  {
   "cell_type": "code",
   "execution_count": 114,
   "id": "1932836e-46d7-41a1-ac89-3dc525ee404a",
   "metadata": {},
   "outputs": [
    {
     "name": "stdout",
     "output_type": "stream",
     "text": [
      "[ 0.725601  +0.j         -0.54484903-0.42028886j]\n"
     ]
    }
   ],
   "source": [
    "v=eigenvectors[:,0]\n",
    "print(v)"
   ]
  },
  {
   "cell_type": "markdown",
   "id": "f0daab8e-9ec5-4ab6-a53a-b97f3db875f8",
   "metadata": {},
   "source": [
    "Apply the matrix $A$ to $v$"
   ]
  },
  {
   "cell_type": "code",
   "execution_count": 115,
   "id": "ac646e5d-9ba8-43d3-bfcd-e2adbff14371",
   "metadata": {},
   "outputs": [
    {
     "data": {
      "text/plain": [
       "array([-0.78438593+1.1554733j ,  1.25827345-0.41329855j])"
      ]
     },
     "execution_count": 115,
     "metadata": {},
     "output_type": "execute_result"
    }
   ],
   "source": [
    "A=complex_matrix \n",
    "A.dot(v)"
   ]
  },
  {
   "cell_type": "markdown",
   "id": "e3140514-31f8-4530-98cd-063ef05a6310",
   "metadata": {},
   "source": [
    "Apply $a$ to $v$ and confirm $Av=av$"
   ]
  },
  {
   "cell_type": "code",
   "execution_count": 116,
   "id": "4ccbc70d-adf9-4856-84f3-3c3d9aa983c2",
   "metadata": {},
   "outputs": [
    {
     "data": {
      "text/plain": [
       "array([-0.78438593+1.1554733j ,  1.25827345-0.41329855j])"
      ]
     },
     "execution_count": 116,
     "metadata": {},
     "output_type": "execute_result"
    }
   ],
   "source": [
    "a*v"
   ]
  },
  {
   "cell_type": "code",
   "execution_count": 49,
   "id": "a86f7164-025a-4f79-a34b-f058d5fdbf58",
   "metadata": {},
   "outputs": [
    {
     "name": "stdout",
     "output_type": "stream",
     "text": [
      "[1.+1.j 3.-2.j]\n"
     ]
    }
   ],
   "source": [
    "v= np.array([1 + 1j, 3 - 2j])\n",
    "print(v)"
   ]
  },
  {
   "cell_type": "code",
   "execution_count": 51,
   "id": "0827d175-aab6-4f0e-b188-27b53cf654d6",
   "metadata": {},
   "outputs": [
    {
     "data": {
      "text/plain": [
       "(3.872983346207417+0j)"
      ]
     },
     "execution_count": 51,
     "metadata": {},
     "output_type": "execute_result"
    }
   ],
   "source": [
    "np.sqrt(np.dot(np.conj(v).T,v))\n"
   ]
  },
  {
   "cell_type": "code",
   "execution_count": 59,
   "id": "e42549e5-0a10-42a1-841c-bb0b2d13bb09",
   "metadata": {},
   "outputs": [],
   "source": [
    "def pauli_H():\n",
    "    op=sp.csr_matrix([[2,1-1j],[1+1j,3]])\n",
    "    return op"
   ]
  },
  {
   "cell_type": "code",
   "execution_count": 57,
   "id": "7ddbe50f-21ca-4915-b56a-a197828afafa",
   "metadata": {},
   "outputs": [
    {
     "name": "stdout",
     "output_type": "stream",
     "text": [
      "  (0, 0)\t(2+0j)\n",
      "  (0, 1)\t(1-1j)\n",
      "  (1, 0)\t(1+1j)\n",
      "  (1, 1)\t(3+0j)\n"
     ]
    }
   ],
   "source": [
    "print(pauli_H()) "
   ]
  },
  {
   "cell_type": "code",
   "execution_count": 61,
   "id": "e0bf9aee-b7a7-4cdd-8ec2-a6de7ea50cea",
   "metadata": {},
   "outputs": [
    {
     "name": "stdout",
     "output_type": "stream",
     "text": [
      "Complex Matrix:\n",
      "[[2.+0.j 1.-1.j]\n",
      " [1.+1.j 3.+0.j]]\n",
      "\n",
      "Eigenvalues:\n",
      "[1.-2.52702567e-16j 4.-1.91386643e-16j]\n",
      "\n",
      "Eigenvectors:\n",
      "[[ 0.81649658+0.j          0.40824829-0.40824829j]\n",
      " [-0.40824829-0.40824829j  0.81649658+0.j        ]]\n"
     ]
    }
   ],
   "source": [
    "# Define a complex matrix\n",
    "complex_matrix = np.array([[2, 1-1j], [1+1j, 3]])\n",
    "\n",
    "# Compute eigenvalues and eigenvectors\n",
    "eigenvalues, eigenvectors = np.linalg.eig(complex_matrix)\n",
    "\n",
    "print(\"Complex Matrix:\")\n",
    "print(complex_matrix)\n",
    "print(\"\\nEigenvalues:\")\n",
    "print(eigenvalues)\n",
    "print(\"\\nEigenvectors:\")\n",
    "print(eigenvectors)"
   ]
  },
  {
   "cell_type": "code",
   "execution_count": 63,
   "id": "4fcf670e-a6c8-4aad-9416-547aeeee8cfd",
   "metadata": {},
   "outputs": [
    {
     "name": "stdout",
     "output_type": "stream",
     "text": [
      "(1-2.5270256719560606e-16j)\n"
     ]
    }
   ],
   "source": [
    "a=eigenvalues[0]\n",
    "print(a)"
   ]
  },
  {
   "cell_type": "code",
   "execution_count": 65,
   "id": "506ab0ef-75a9-411b-962c-d192b3ddb1dc",
   "metadata": {},
   "outputs": [
    {
     "name": "stdout",
     "output_type": "stream",
     "text": [
      "[ 0.81649658+0.j         -0.40824829-0.40824829j]\n"
     ]
    }
   ],
   "source": [
    "v=eigenvectors[:,0]\n",
    "print(v)"
   ]
  },
  {
   "cell_type": "code",
   "execution_count": 67,
   "id": "132dd5c1-bd09-4964-8abe-7c11607d62f7",
   "metadata": {},
   "outputs": [
    {
     "data": {
      "text/plain": [
       "array([ 0.81649658-2.77555756e-16j, -0.40824829-4.08248290e-01j])"
      ]
     },
     "execution_count": 67,
     "metadata": {},
     "output_type": "execute_result"
    }
   ],
   "source": [
    "A=complex_matrix \n",
    "A.dot(v)"
   ]
  },
  {
   "cell_type": "code",
   "execution_count": 69,
   "id": "53041897-ff80-4010-b9c8-86c3e6552f68",
   "metadata": {},
   "outputs": [
    {
     "data": {
      "text/plain": [
       "array([ 0.81649658-2.06330782e-16j, -0.40824829-4.08248290e-01j])"
      ]
     },
     "execution_count": 69,
     "metadata": {},
     "output_type": "execute_result"
    }
   ],
   "source": [
    "a*v"
   ]
  },
  {
   "cell_type": "code",
   "execution_count": 71,
   "id": "601bfacf-b0fd-4ce9-beaa-4ca8c546d303",
   "metadata": {},
   "outputs": [
    {
     "name": "stdout",
     "output_type": "stream",
     "text": [
      "[1.+1.j 3.-2.j]\n"
     ]
    }
   ],
   "source": [
    "v= np.array([1 + 1j, 3 - 2j])\n",
    "print(v)"
   ]
  },
  {
   "cell_type": "code",
   "execution_count": 73,
   "id": "174353ed-dc70-4ef1-8ea4-9cf50cccfb80",
   "metadata": {},
   "outputs": [
    {
     "data": {
      "text/plain": [
       "(3.872983346207417+0j)"
      ]
     },
     "execution_count": 73,
     "metadata": {},
     "output_type": "execute_result"
    }
   ],
   "source": [
    "np.sqrt(np.dot(np.conj(v).T,v))"
   ]
  },
  {
   "cell_type": "code",
   "execution_count": null,
   "id": "9e57c9ed-89ce-4949-8dbd-63aebc25315e",
   "metadata": {},
   "outputs": [],
   "source": []
  }
 ],
 "metadata": {
  "kernelspec": {
   "display_name": "Python 3 (ipykernel)",
   "language": "python",
   "name": "python3"
  },
  "language_info": {
   "codemirror_mode": {
    "name": "ipython",
    "version": 3
   },
   "file_extension": ".py",
   "mimetype": "text/x-python",
   "name": "python",
   "nbconvert_exporter": "python",
   "pygments_lexer": "ipython3",
   "version": "3.11.5"
  }
 },
 "nbformat": 4,
 "nbformat_minor": 5
}
